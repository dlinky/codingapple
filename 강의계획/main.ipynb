{
 "cells": [
  {
   "cell_type": "code",
   "execution_count": 1,
   "metadata": {},
   "outputs": [],
   "source": [
    "from selenium import webdriver\n",
    "from selenium.webdriver.common.by import By\n",
    "\n",
    "driver = webdriver.Chrome()\n",
    "driver.get('https://www.youtube.com/playlist?list=PLfjEYxTqMdg3-4pGI5MV8GJiOPkG5TTqW')"
   ]
  },
  {
   "cell_type": "code",
   "execution_count": 2,
   "metadata": {},
   "outputs": [],
   "source": [
    "import pandas as pd"
   ]
  },
  {
   "cell_type": "code",
   "execution_count": 43,
   "metadata": {},
   "outputs": [],
   "source": [
    "dict_lecture = []\n",
    "\n",
    "name = ''\n",
    "classname = 'SprintBoot&JPA'\n",
    "chapter = ''\n",
    "index = 0\n",
    "elapse_time = 0\n",
    "\n",
    "full_index = 0\n",
    "\n",
    "lecture_list = driver.find_elements(By.XPATH, '//*[@id=\"item-body\"]/div[3]/div/table/tbody/tr')\n",
    "\n",
    "for lecture in lecture_list:\n",
    "  if lecture.get_attribute('class') == \"course_section show\":\n",
    "    chapter = lecture.find_element(By.XPATH, './td').text\n",
    "    index = 0\n",
    "    continue\n",
    "  else:\n",
    "    index += 1\n",
    "    try:\n",
    "      name = lecture.find_element(By.XPATH, './td[2]/a').text\n",
    "    except:\n",
    "      name = lecture.find_element(By.XPATH, './td[2]').text\n",
    "    elapse_time = lecture.find_element(By.XPATH, './td[4]/span').text\n",
    "    elapse_time = int(elapse_time[0:2])\n",
    "    dict_lecture.append({'name': name, 'classname': classname, 'chapter': chapter, 'index': index, 'time': elapse_time})\n",
    "\n",
    "df_lecture = pd.DataFrame(dict_lecture)"
   ]
  },
  {
   "cell_type": "code",
   "execution_count": 44,
   "metadata": {},
   "outputs": [],
   "source": [
    "import openpyxl\n",
    "df_lecture.to_excel(classname.replace(\"/\",\"&\")+\".xlsx\")"
   ]
  },
  {
   "cell_type": "code",
   "execution_count": null,
   "metadata": {},
   "outputs": [],
   "source": []
  }
 ],
 "metadata": {
  "kernelspec": {
   "display_name": "zoom",
   "language": "python",
   "name": "python3"
  },
  "language_info": {
   "codemirror_mode": {
    "name": "ipython",
    "version": 3
   },
   "file_extension": ".py",
   "mimetype": "text/x-python",
   "name": "python",
   "nbconvert_exporter": "python",
   "pygments_lexer": "ipython3",
   "version": "3.12.2"
  }
 },
 "nbformat": 4,
 "nbformat_minor": 2
}
